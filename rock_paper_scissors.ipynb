{
 "cells": [
  {
   "cell_type": "code",
   "execution_count": 1,
   "metadata": {},
   "outputs": [
    {
     "name": "stdout",
     "output_type": "stream",
     "text": [
      "Welcome to rock, paper, scissors. Good luck!\n",
      "The computer chooses rock.\n",
      "rock and rock. It's a draw.\n",
      "Thanks for playing\n"
     ]
    }
   ],
   "source": [
    "# Write your solution below the starter code\n",
    "# Follow the instructions in the tab to the right\n",
    "#import random\n",
    "from random import seed\n",
    "from random import randint\n",
    "\n",
    "# Welcome the user to the game\n",
    "print(\"Welcome to rock, paper, scissors. Good luck!\")\n",
    "\n",
    "# Make a choice for the computer player\n",
    "computer_choice = randint(1,3)\n",
    "# Get a choice from the user\n",
    "user_choice = input(\"Choose rock, paper, or scissors: \").lower()\n",
    "#choice = {\"rock\", \"paper\", \"scissors\"}\n",
    "\n",
    "\n",
    "# Print the computer choice\n",
    "while True:\n",
    "  if computer_choice == 1:\n",
    "    computer_choice = \"rock\"\n",
    "    print(\"The computer chooses rock.\")\n",
    "\n",
    "  elif computer_choice == 2:\n",
    "    computer_choice = \"paper\"\n",
    "    print(\"The computer chooses paper.\")\n",
    "\n",
    "  elif computer_choice == 3:\n",
    "    computer_choice = \"scissors\"\n",
    "    print(\"The computer chooses scissors.\")\n",
    "\n",
    "  # Compare the user and computer choice\n",
    "  if user_choice == computer_choice:\n",
    "    print(user_choice + \" and \" + computer_choice + \". It's a draw.\")\n",
    "\n",
    "  elif user_choice == \"rock\" and computer_choice == \"scissors\":\n",
    "    print(\"rock smashes scissors. You win!\")\n",
    "\n",
    "  elif user_choice == \"paper\" and computer_choice == \"rock\":\n",
    "    print(\"paper covers rock. You win!\")\n",
    "\n",
    "  elif user_choice == \"scissors\" and computer_choice == \"paper\":\n",
    "    print(\"scissors tears apart paper. You win!\")\n",
    "\n",
    "  elif user_choice == \"scissors\" and computer_choice == \"rock\":\n",
    "    print(\"rock smashes scissors. You lose!\")\n",
    "\n",
    "  elif user_choice == \"rock\" and computer_choice == \"paper\":\n",
    "    print(\"paper covers rock. You lose!\")\n",
    "\n",
    "  elif user_choice == \"paper\" and computer_choice == \"scissors\":\n",
    "    print(\"scissors tears apart paper. You win!\")\n",
    "\n",
    "  else:\n",
    "    print(\"You have to enter rock, paper or scissors\")\n",
    "  # Asking if they want to play again\n",
    "  play_again = input(\"Do you want to play again? (yes or no) \").lower()\n",
    "  if play_again == \"yes\":\n",
    "    user_choice = input(\"Choose rock, paper, or scissors: \").lower()\n",
    "    computer_choice = randint(1,3)\n",
    "  elif play_again == \"no\":\n",
    "    print(\"Thanks for playing\")\n",
    "    break\n",
    "  else:\n",
    "    user_choice = \"nill\"\n",
    "    print(\"You have to enter yes or no\")\n",
    "\n"
   ]
  },
  {
   "cell_type": "code",
   "execution_count": null,
   "metadata": {},
   "outputs": [],
   "source": []
  }
 ],
 "metadata": {
  "kernelspec": {
   "display_name": "Python 3",
   "language": "python",
   "name": "python3"
  },
  "language_info": {
   "codemirror_mode": {
    "name": "ipython",
    "version": 3
   },
   "file_extension": ".py",
   "mimetype": "text/x-python",
   "name": "python",
   "nbconvert_exporter": "python",
   "pygments_lexer": "ipython3",
   "version": "3.12.1"
  }
 },
 "nbformat": 4,
 "nbformat_minor": 2
}
